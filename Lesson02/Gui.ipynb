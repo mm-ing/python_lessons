{
 "cells": [
  {
   "cell_type": "markdown",
   "metadata": {},
   "source": [
    "GUI: empty"
   ]
  },
  {
   "cell_type": "code",
   "execution_count": 1,
   "metadata": {},
   "outputs": [],
   "source": [
    "# Import Module\n",
    "from tkinter import *\n",
    "\n",
    "canvasWidth = 500\n",
    "canvasHeight = 500\n",
    "background = 'yellow'\n",
    " \n",
    "# create root window    Tk(screenName=None,  baseName=None,  className=’Tk’,  useTk=1)\n",
    "root = Tk()\n",
    " \n",
    "# root window title and dimension\n",
    "root.title(\"Sample GUI\")\n",
    "# Set geometry (width x height)\n",
    "root.geometry(f'{canvasWidth}x{canvasHeight}')\n",
    "\n",
    "# Execute Tkinter\n",
    "root.mainloop()"
   ]
  },
  {
   "cell_type": "markdown",
   "metadata": {},
   "source": [
    "GUI: Button"
   ]
  },
  {
   "cell_type": "code",
   "execution_count": 3,
   "metadata": {},
   "outputs": [],
   "source": [
    "# Import Module\n",
    "from tkinter import *\n",
    "\n",
    "canvasWidth = 500\n",
    "canvasHeight = 500\n",
    "background = 'yellow'\n",
    " \n",
    "# create root window    Tk(screenName=None,  baseName=None,  className=’Tk’,  useTk=1)\n",
    "root = Tk()\n",
    " \n",
    "# root window title and dimension\n",
    "root.title(\"Sample GUI\")\n",
    "# Set geometry (width x height)\n",
    "root.geometry(f'{canvasWidth}x{canvasHeight}')\n",
    "\n",
    "message = Label(root, text=\"\")    # Label\n",
    "message.pack()    # Label\n",
    "\n",
    "def clicked():\n",
    "    message.config(text=\"Button was clicked!!\")    # Button \n",
    "\n",
    "def reset():\n",
    "    message.config(text=\"Button not clicked, again!\")    # Button \n",
    "\n",
    "startButton = Button(root, text=\"Start\", fg=\"blue\", command=clicked)    # Button\n",
    "startButton.pack()    # Button\n",
    "\n",
    "resetButton = Button(root, text=\"Reset\", fg=\"red\", command=reset)    # Button\n",
    "resetButton.pack()    # Button\n",
    "\n",
    "message.config(text=\"Button not clicked!\")\n",
    "\n",
    "# Execute Tkinter\n",
    "root.mainloop()"
   ]
  },
  {
   "cell_type": "markdown",
   "metadata": {},
   "source": [
    "GUI: text input"
   ]
  },
  {
   "cell_type": "code",
   "execution_count": 1,
   "metadata": {},
   "outputs": [],
   "source": [
    "# Import Module\n",
    "from tkinter import *\n",
    "\n",
    "canvasWidth = 500\n",
    "canvasHeight = 500\n",
    "background = 'yellow'\n",
    " \n",
    "# create root window    Tk(screenName=None,  baseName=None,  className=’Tk’,  useTk=1)\n",
    "root = Tk()\n",
    " \n",
    "# root window title and dimension\n",
    "root.title(\"Sample GUI\")\n",
    "# Set geometry (width x height)\n",
    "root.geometry(f'{canvasWidth}x{canvasHeight}')\n",
    "\n",
    "def printInput(): \n",
    "    #inp = inputtxt.get(1.0, \"end-1c\") \n",
    "    inp = inputtxt.get(1.0, \"end\")\n",
    "    lbl.config(text = f\"Eingegebner Text: {inp}\") \n",
    "  \n",
    "# TextBox Creation \n",
    "inputtxt = Text(root, \n",
    "                   height = 2, \n",
    "                   width = 20) \n",
    "  \n",
    "inputtxt.pack() \n",
    "  \n",
    "# Button Creation \n",
    "printButton = Button(root, \n",
    "                        text = \"Print\",  \n",
    "                        command = printInput) \n",
    "printButton.pack() \n",
    "  \n",
    "# Label Creation \n",
    "lbl = Label(root, text = \"\") \n",
    "lbl.pack() \n",
    "\n",
    "# Execute Tkinter\n",
    "root.mainloop()"
   ]
  },
  {
   "cell_type": "markdown",
   "metadata": {},
   "source": [
    "GUI: 2D-grid"
   ]
  },
  {
   "cell_type": "code",
   "execution_count": 9,
   "metadata": {},
   "outputs": [],
   "source": [
    "# Import Module\n",
    "from tkinter import *\n",
    "\n",
    "canvasWidth = 500\n",
    "canvasHeight = 500\n",
    "background = 'yellow'\n",
    " \n",
    "# create root window    Tk(screenName=None,  baseName=None,  className=’Tk’,  useTk=1)\n",
    "root = Tk()\n",
    " \n",
    "# root window title and dimension\n",
    "root.title(\"Sample GUI\")\n",
    "# Set geometry (width x height)\n",
    "root.geometry(f'{canvasWidth}x{canvasHeight}')\n",
    "\n",
    "rows, cols = (5, 5)\n",
    "arr=[]\n",
    "rows, cols=5,5\n",
    "for i in range(rows):\n",
    "    col = []\n",
    "    for j in range(cols):\n",
    "        col.append(Button(root,\n",
    "                    text = 'click me',\n",
    "                    bg=\"yellow\",\n",
    "                    fg=\"blue\"))\n",
    "        col[j].grid(column=j, row=i)\n",
    "        Grid.columnconfigure(root, j, weight=1, minsize=5)\n",
    "    arr.append(col)\n",
    "    Grid.rowconfigure(root, i, weight=1, minsize=5)\n",
    "    \n",
    "\n",
    "# Execute Tkinter\n",
    "root.mainloop()"
   ]
  }
 ],
 "metadata": {
  "kernelspec": {
   "display_name": "Python 3",
   "language": "python",
   "name": "python3"
  },
  "language_info": {
   "codemirror_mode": {
    "name": "ipython",
    "version": 3
   },
   "file_extension": ".py",
   "mimetype": "text/x-python",
   "name": "python",
   "nbconvert_exporter": "python",
   "pygments_lexer": "ipython3",
   "version": "3.12.8"
  }
 },
 "nbformat": 4,
 "nbformat_minor": 2
}
