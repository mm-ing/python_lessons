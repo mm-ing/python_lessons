{
 "cells": [
  {
   "cell_type": "markdown",
   "metadata": {},
   "source": [
    "Graphics: Lines"
   ]
  },
  {
   "cell_type": "code",
   "execution_count": 1,
   "metadata": {},
   "outputs": [],
   "source": [
    "# Import Module\n",
    "from tkinter import *\n",
    " \n",
    "# create root window    Tk(screenName=None,  baseName=None,  className=’Tk’,  useTk=1)\n",
    "root = Tk()\n",
    " \n",
    "# root window title and dimension\n",
    "root.title(\"Graphics\")\n",
    "# Set geometry (widthxheight)\n",
    "root.geometry('350x260')\n",
    "\n",
    "C = Canvas(root, bg=\"yellow\", height=250, width=300)\n",
    "\n",
    "for x in range(0,300,10):\n",
    "    # create line\n",
    "    line = C.create_line(x,0,200,250,fill='blue',width=2)\t\n",
    "C.pack()\n",
    "\n",
    "\n",
    "# Execute Tkinter\n",
    "root.mainloop()"
   ]
  },
  {
   "cell_type": "markdown",
   "metadata": {},
   "source": [
    "Graphics: Arc"
   ]
  },
  {
   "cell_type": "code",
   "execution_count": 13,
   "metadata": {},
   "outputs": [],
   "source": [
    "# Import Module\n",
    "from tkinter import *\n",
    " \n",
    "# create root window    Tk(screenName=None,  baseName=None,  className=’Tk’,  useTk=1)\n",
    "root = Tk()\n",
    " \n",
    "# root window title and dimension\n",
    "root.title(\"Graphics\")\n",
    "# Set geometry (widthxheight)\n",
    "root.geometry('350x260')\n",
    "\n",
    "C = Canvas(root, bg=\"yellow\", height=250, width=300)\n",
    "\n",
    "coord = 10, 50, 240, 210\n",
    "arc = C.create_arc(coord, start=0, extent=150, fill=\"red\")\n",
    "\n",
    "C.pack()\n",
    "\n",
    "\n",
    "# Execute Tkinter\n",
    "root.mainloop()"
   ]
  },
  {
   "cell_type": "markdown",
   "metadata": {},
   "source": [
    "Graphics: Image"
   ]
  },
  {
   "cell_type": "code",
   "execution_count": 9,
   "metadata": {},
   "outputs": [
    {
     "ename": "AttributeError",
     "evalue": "type object 'Image' has no attribute 'open'",
     "output_type": "error",
     "traceback": [
      "\u001b[1;31m---------------------------------------------------------------------------\u001b[0m",
      "\u001b[1;31mAttributeError\u001b[0m                            Traceback (most recent call last)",
      "Cell \u001b[1;32mIn[9], line 14\u001b[0m\n\u001b[0;32m     10\u001b[0m root\u001b[38;5;241m.\u001b[39mgeometry(\u001b[38;5;124m'\u001b[39m\u001b[38;5;124m350x260\u001b[39m\u001b[38;5;124m'\u001b[39m)\n\u001b[0;32m     12\u001b[0m C \u001b[38;5;241m=\u001b[39m Canvas(root, bg\u001b[38;5;241m=\u001b[39m\u001b[38;5;124m\"\u001b[39m\u001b[38;5;124mblue\u001b[39m\u001b[38;5;124m\"\u001b[39m, height\u001b[38;5;241m=\u001b[39m\u001b[38;5;241m250\u001b[39m, width\u001b[38;5;241m=\u001b[39m\u001b[38;5;241m300\u001b[39m)\n\u001b[1;32m---> 14\u001b[0m img \u001b[38;5;241m=\u001b[39m \u001b[43mImage\u001b[49m\u001b[38;5;241;43m.\u001b[39;49m\u001b[43mopen\u001b[49m(\u001b[38;5;124m\"\u001b[39m\u001b[38;5;124mALU_block.gif\u001b[39m\u001b[38;5;124m\"\u001b[39m)\n\u001b[0;32m     16\u001b[0m image \u001b[38;5;241m=\u001b[39m C\u001b[38;5;241m.\u001b[39mcreate_image(\u001b[38;5;241m50\u001b[39m, \u001b[38;5;241m50\u001b[39m, anchor\u001b[38;5;241m=\u001b[39mNE, image\u001b[38;5;241m=\u001b[39mimg)\n\u001b[0;32m     18\u001b[0m C\u001b[38;5;241m.\u001b[39mpack()\n",
      "\u001b[1;31mAttributeError\u001b[0m: type object 'Image' has no attribute 'open'"
     ]
    }
   ],
   "source": [
    "# Import Module\n",
    "from tkinter import *\n",
    " \n",
    "# create root window    Tk(screenName=None,  baseName=None,  className=’Tk’,  useTk=1)\n",
    "root = Tk()\n",
    " \n",
    "# root window title and dimension\n",
    "root.title(\"Graphics\")\n",
    "# Set geometry (widthxheight)\n",
    "root.geometry('350x260')\n",
    "\n",
    "C = Canvas(root, bg=\"blue\", height=250, width=300)\n",
    "\n",
    "img = Image.open(\"ALU_block.gif\")\n",
    "\n",
    "image = C.create_image(50, 50, anchor=NE, image=img)\n",
    "\n",
    "C.pack()\n",
    "\n",
    "\n",
    "# Execute Tkinter\n",
    "root.mainloop()"
   ]
  }
 ],
 "metadata": {
  "kernelspec": {
   "display_name": "Python 3",
   "language": "python",
   "name": "python3"
  },
  "language_info": {
   "codemirror_mode": {
    "name": "ipython",
    "version": 3
   },
   "file_extension": ".py",
   "mimetype": "text/x-python",
   "name": "python",
   "nbconvert_exporter": "python",
   "pygments_lexer": "ipython3",
   "version": "3.12.7"
  }
 },
 "nbformat": 4,
 "nbformat_minor": 2
}
