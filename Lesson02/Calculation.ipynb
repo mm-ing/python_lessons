{
 "cells": [
  {
   "cell_type": "markdown",
   "metadata": {},
   "source": [
    "Calculate the Area of a Triangle"
   ]
  },
  {
   "cell_type": "code",
   "execution_count": 28,
   "metadata": {},
   "outputs": [
    {
     "name": "stdout",
     "output_type": "stream",
     "text": [
      "14.696938456699069\n"
     ]
    }
   ],
   "source": [
    "# Import Module\n",
    "from tkinter import *\n",
    "import CalculationService as cs\n",
    "\n",
    "a = 5\n",
    "b = 6\n",
    "c = 7\n",
    "print(cs.areaOfTriangle(a, b, c))\n",
    " \n",
    "# create root window    Tk(screenName=None,  baseName=None,  className=’Tk’,  useTk=1)\n",
    "root = Tk()\n",
    " \n",
    "# root window title and dimension\n",
    "root.title(\"Calculation\")\n",
    "# Set geometry (widthxheight)\n",
    "root.geometry('250x230')\n",
    "\n",
    "# Create an Entry widget\n",
    "Label(root, text=\"Enter length of first side\", font=('Calibri 10')).pack()\n",
    "a=Entry(root, width=5, justify=RIGHT)\n",
    "a.insert(0, \"0.0\")\n",
    "a.pack()\n",
    "Label(root, text=\"Enter length of second side\", font=('Calibri 10')).pack()\n",
    "b=Entry(root, width=5, justify=RIGHT)\n",
    "b.insert(0, \"0.0\")\n",
    "b.pack()\n",
    "Label(root, text=\"Enter length of third side\", justify = RIGHT, font=('Calibri 10')).pack()\n",
    "c=Entry(root, width=5, justify=RIGHT)\n",
    "c.insert(0, \"0.0\")\n",
    "c.pack()\n",
    "\n",
    "label=Label(root, text=\"Area : \", font=('Calibri 15'))\n",
    "label.pack(pady=20)\n",
    "\n",
    "\n",
    "def cal_area():\n",
    "   s1=float(a.get())\n",
    "   s2=float(b.get())\n",
    "   s3=float(c.get())\n",
    "   area=round(cs.areaOfTriangle(s1, s2, s3),2)\n",
    "   label.config(text=f\"Area: {area}\")\n",
    "\n",
    "Button(root, text=\"Calculate Area\", command=cal_area).pack()\n",
    "\n",
    "# Execute Tkinter\n",
    "root.mainloop()"
   ]
  }
 ],
 "metadata": {
  "kernelspec": {
   "display_name": "Python 3",
   "language": "python",
   "name": "python3"
  },
  "language_info": {
   "codemirror_mode": {
    "name": "ipython",
    "version": 3
   },
   "file_extension": ".py",
   "mimetype": "text/x-python",
   "name": "python",
   "nbconvert_exporter": "python",
   "pygments_lexer": "ipython3",
   "version": "3.12.4"
  }
 },
 "nbformat": 4,
 "nbformat_minor": 2
}
