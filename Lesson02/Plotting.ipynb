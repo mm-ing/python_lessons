{
 "cells": [
  {
   "cell_type": "markdown",
   "metadata": {},
   "source": [
    "Plot: sinus function"
   ]
  },
  {
   "cell_type": "code",
   "execution_count": null,
   "metadata": {},
   "outputs": [],
   "source": [
    "from matplotlib import pyplot as plt\n",
    "import numpy as np\n",
    "x = np.linspace(0, 2*np.pi, 100) # 100 points between 0 and 2*pi\n",
    "y = np.sin(x)\n",
    "plt.plot(x,y)"
   ]
  },
  {
   "cell_type": "markdown",
   "metadata": {},
   "source": [
    "Plot-function: qudratic polynomial function with plot"
   ]
  },
  {
   "cell_type": "code",
   "execution_count": null,
   "metadata": {},
   "outputs": [],
   "source": [
    "def quadratic_polynomial(a, b, c):\n",
    "    x = np.linspace(-10, 10, 100) # 100 points between -10 and 10\n",
    "    y = a*x**2 + b*x + c\n",
    "    plt.plot(x,y)\n",
    "\n",
    "quadratic_polynomial(2, 2, 5)\n"
   ]
  },
  {
   "cell_type": "markdown",
   "metadata": {},
   "source": [
    "Plot-function: qubic polynomial function with plot"
   ]
  },
  {
   "cell_type": "code",
   "execution_count": null,
   "metadata": {},
   "outputs": [],
   "source": [
    "def qubic_polynomial(a, b, c, d):\n",
    "    x = np.linspace(-10, 10, 100) # 100 points between -10 and 10\n",
    "    y = a*x**3 + b*x**2 + c*x + d\n",
    "    plt.plot(x,y)\n",
    "\n",
    "qubic_polynomial(2, 2, 5, 5)"
   ]
  },
  {
   "cell_type": "markdown",
   "metadata": {},
   "source": [
    "Plot-function: nth root function with plot"
   ]
  },
  {
   "cell_type": "code",
   "execution_count": null,
   "metadata": {},
   "outputs": [],
   "source": [
    "def nth_root(exponent):\n",
    "    x = np.linspace(-10, 10, 100) # 100 points between -10 and 10\n",
    "    y = np.power(x, (1/exponent))\n",
    "    plt.plot(x,y)\n",
    "\n",
    "nth_root(3)"
   ]
  },
  {
   "cell_type": "markdown",
   "metadata": {},
   "source": [
    "Plot-function: a sine wave plot with customized styling, including a title, axis labels, grid lines, and a legend."
   ]
  },
  {
   "cell_type": "code",
   "execution_count": null,
   "metadata": {},
   "outputs": [],
   "source": [
    "def create_sine_wave():\n",
    "    # Generate data\n",
    "    x = np.linspace(0, 10, 1000) # 1000 points between 0 and 10\n",
    "    y = np.sin(x)\n",
    "\n",
    "    # Create the plot\n",
    "    fig, ax = plt.subplots(figsize=(10, 6))\n",
    "    \n",
    "    # Plot the data with styling\n",
    "    ax.plot(x, y, label='Sine Wave', color='royalblue', linewidth=2)\n",
    "\n",
    "    # Add title and labels\n",
    "    ax.set_title('Sine Wave', fontsize=20, fontweight='bold')\n",
    "    ax.set_xlabel('X-axis (radians)', fontsize=15)\n",
    "    ax.set_ylabel('Y-axis (amplitude)', fontsize=15)\n",
    "    \n",
    "    # Add grid and legend\n",
    "    ax.grid(True, which='both', linestyle='--', linewidth=0.5, color='gray')\n",
    "    ax.legend(fontsize=12)\n",
    "    \n",
    "    # Customize tick parameters\n",
    "    ax.tick_params(axis='both', which='major', labelsize=12)\n",
    "    \n",
    "    # Show the plot\n",
    "    plt.show()\n",
    "\n",
    "# Call the function to display the plot\n",
    "create_sine_wave()"
   ]
  },
  {
   "cell_type": "markdown",
   "metadata": {},
   "source": [
    "Plot-function: sine wave, a cosine wave, and a more complex wave combining sine and cosine functions."
   ]
  },
  {
   "cell_type": "code",
   "execution_count": null,
   "metadata": {},
   "outputs": [],
   "source": [
    "def create_complex_wave():\n",
    "    # Generate data\n",
    "    x = np.linspace(0, 10, 1000) # 1000 points between 0 and 10\n",
    "    y1 = np.sin(x)\n",
    "    y2 = np.cos(x)\n",
    "    y3 = np.sin(2 * x) * np.cos(3 * x)\n",
    "\n",
    "    # Create the plot\n",
    "    fig, ax = plt.subplots(figsize=(12, 7))\n",
    "    \n",
    "    # Plot the data with styling\n",
    "    ax.plot(x, y1, label='Sine Wave', color='royalblue', linewidth=2)\n",
    "    ax.plot(x, y2, label='Cosine Wave', color='darkorange', linewidth=2)\n",
    "    ax.plot(x, y3, label='Complex Wave', color='green', linewidth=2)\n",
    "    \n",
    "    # Add title and labels\n",
    "    ax.set_title('Complex Waves', fontsize=20, fontweight='bold')\n",
    "    ax.set_xlabel('X-axis (radians)', fontsize=15)\n",
    "    ax.set_ylabel('Y-axis (amplitude)', fontsize=15)\n",
    "    \n",
    "    # Add grid and legend\n",
    "    ax.grid(True, which='both', linestyle='--', linewidth=0.5, color='gray')\n",
    "    ax.legend(fontsize=12)\n",
    "    \n",
    "    # Customize tick parameters\n",
    "    ax.tick_params(axis='both', which='major', labelsize=12)\n",
    "    \n",
    "    # Add additional styling elements (e.g., background color)\n",
    "    ax.set_facecolor('#f0f0f0')\n",
    "    \n",
    "    # Show the plot\n",
    "    plt.show()\n",
    "\n",
    "# Call the function to display the plot\n",
    "create_complex_wave()"
   ]
  }
 ],
 "metadata": {
  "kernelspec": {
   "display_name": "Python 3",
   "language": "python",
   "name": "python3"
  },
  "language_info": {
   "codemirror_mode": {
    "name": "ipython",
    "version": 3
   },
   "file_extension": ".py",
   "mimetype": "text/x-python",
   "name": "python",
   "nbconvert_exporter": "python",
   "pygments_lexer": "ipython3",
   "version": "3.12.10"
  }
 },
 "nbformat": 4,
 "nbformat_minor": 2
}
