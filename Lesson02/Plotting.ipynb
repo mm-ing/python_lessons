{
 "cells": [
  {
   "cell_type": "markdown",
   "metadata": {},
   "source": [
    "Plot simple sinus function"
   ]
  },
  {
   "cell_type": "code",
   "execution_count": null,
   "metadata": {},
   "outputs": [],
   "source": [
    "from matplotlib import pyplot as plt\n",
    "import numpy as np\n",
    "x = np.linspace(0, 2*np.pi, 100)\n",
    "y = np.sin(x)\n",
    "plt.plot(x,y)\n"
   ]
  },
  {
   "cell_type": "markdown",
   "metadata": {},
   "source": [
    "Create qudratic polynomial function with plot"
   ]
  },
  {
   "cell_type": "code",
   "execution_count": null,
   "metadata": {},
   "outputs": [],
   "source": [
    "def quadraticPolynomial(a, b, c):\n",
    "    x = np.linspace(-10, 10, 100)\n",
    "    y = a*x**2 + b*x + c\n",
    "    plt.plot(x,y)\n",
    "\n",
    "quadraticPolynomial(2, 2, 5)\n"
   ]
  },
  {
   "cell_type": "markdown",
   "metadata": {},
   "source": [
    "Create qubic polynomial function with plot"
   ]
  },
  {
   "cell_type": "code",
   "execution_count": null,
   "metadata": {},
   "outputs": [],
   "source": [
    "def qubicPolynomial(a, b, c, d):\n",
    "    x = np.linspace(-10, 10, 100)\n",
    "    y = a*x**3 + b*x**2 + c*x + d\n",
    "    plt.plot(x,y)\n",
    "\n",
    "qubicPolynomial(2, 2, 5, 5)"
   ]
  },
  {
   "cell_type": "markdown",
   "metadata": {},
   "source": [
    "Create nth root function with plot"
   ]
  },
  {
   "cell_type": "code",
   "execution_count": null,
   "metadata": {},
   "outputs": [],
   "source": [
    "def nthRoot(exponent):\n",
    "    x = np.linspace(-10, 10, 100)\n",
    "    y = np.power(x, (1/exponent))\n",
    "    plt.plot(x,y)\n",
    "\n",
    "nthRoot(3)"
   ]
  }
 ],
 "metadata": {
  "kernelspec": {
   "display_name": "Python 3",
   "language": "python",
   "name": "python3"
  },
  "language_info": {
   "codemirror_mode": {
    "name": "ipython",
    "version": 3
   },
   "file_extension": ".py",
   "mimetype": "text/x-python",
   "name": "python",
   "nbconvert_exporter": "python",
   "pygments_lexer": "ipython3",
   "version": "3.12.7"
  }
 },
 "nbformat": 4,
 "nbformat_minor": 2
}
