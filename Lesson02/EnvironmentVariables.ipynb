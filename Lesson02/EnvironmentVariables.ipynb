{
 "cells": [
  {
   "cell_type": "markdown",
   "metadata": {},
   "source": [
    "access operating system-related functionality"
   ]
  },
  {
   "cell_type": "code",
   "execution_count": null,
   "metadata": {},
   "outputs": [],
   "source": [
    "# Import the 'os' module to access operating system-related functionality, including environment variables.\n",
    "import os\n",
    "\n",
    "# Iterate through all environment variables in the 'os.environ' dictionary.\n",
    "for data in os.environ:\n",
    "    # Print the name of the environment variable.\n",
    "    print(data)\n",
    "    # Print a separator for clarity.\n",
    "    print('-' * 15)\n",
    "    # Print the value of the environment variable.\n",
    "    print(os.environ[data])\n",
    "    # Print a line of '=' characters as an additional separator.\n",
    "    print('=' * 30)"
   ]
  },
  {
   "cell_type": "markdown",
   "metadata": {},
   "source": [
    "Iterate through all environment variables and their values"
   ]
  },
  {
   "cell_type": "code",
   "execution_count": null,
   "metadata": {},
   "outputs": [],
   "source": [
    "# Import the 'os' module to access operating system-related functionality, including environment variables.\n",
    "import os\n",
    "\n",
    "# Iterate through all environment variables and their values using the 'os.environ.items()' method.\n",
    "for item, value in os.environ.items():\n",
    "    # Print the environment variable name and its corresponding value.\n",
    "    print('{}: {}'.format(item, value))"
   ]
  }
 ],
 "metadata": {
  "kernelspec": {
   "display_name": "Python 3",
   "language": "python",
   "name": "python3"
  },
  "language_info": {
   "codemirror_mode": {
    "name": "ipython",
    "version": 3
   },
   "file_extension": ".py",
   "mimetype": "text/x-python",
   "name": "python",
   "nbconvert_exporter": "python",
   "pygments_lexer": "ipython3",
   "version": "3.12.9"
  }
 },
 "nbformat": 4,
 "nbformat_minor": 2
}
