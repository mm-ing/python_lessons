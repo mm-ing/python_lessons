{
 "cells": [
  {
   "cell_type": "markdown",
   "metadata": {},
   "source": [
    "File: simle read-write"
   ]
  },
  {
   "cell_type": "code",
   "execution_count": 3,
   "metadata": {},
   "outputs": [
    {
     "name": "stdout",
     "output_type": "stream",
     "text": [
      "Hello, world!\n"
     ]
    }
   ],
   "source": [
    "# Step 1: Open a file in read-write mode ('w+' mode)\n",
    "with open('example.txt', 'w+') as file:\n",
    "    # Step 2: Write some data to the file\n",
    "    file.write('Hello, world!')\n",
    "    \n",
    "    # Step 3: Move the cursor back to the beginning of the file\n",
    "    file.seek(0)\n",
    "    \n",
    "    # Step 4: Read the data from the file\n",
    "    content = file.read()\n",
    "    print(content)  # Output: Hello, world!\n",
    "\n",
    "# Step 5: The file is automatically closed after exiting the with block"
   ]
  },
  {
   "cell_type": "markdown",
   "metadata": {},
   "source": [
    "Database: simple read-write access"
   ]
  },
  {
   "cell_type": "code",
   "execution_count": 1,
   "metadata": {},
   "outputs": [
    {
     "name": "stdout",
     "output_type": "stream",
     "text": [
      "[(1, 'Alice', 30)]\n"
     ]
    }
   ],
   "source": [
    "import sqlite3\n",
    "\n",
    "# Connect to the database (or create it if it doesn't exist)\n",
    "conn = sqlite3.connect('example.db')\n",
    "c = conn.cursor()\n",
    "\n",
    "# Create a table (if it doesn't already exist)\n",
    "c.execute('''CREATE TABLE IF NOT EXISTS records\n",
    "             (id INTEGER PRIMARY KEY, name TEXT, age INTEGER)''')\n",
    "\n",
    "# Insert a row of data\n",
    "c.execute(\"INSERT INTO records (name, age) VALUES ('Alice', 30)\")\n",
    "\n",
    "# Save (commit) the changes\n",
    "conn.commit()\n",
    "\n",
    "# Query the database\n",
    "c.execute('SELECT * FROM records')\n",
    "print(c.fetchall())\n",
    "\n",
    "# Close the connection when done\n",
    "conn.close()"
   ]
  }
 ],
 "metadata": {
  "kernelspec": {
   "display_name": "Python 3",
   "language": "python",
   "name": "python3"
  },
  "language_info": {
   "codemirror_mode": {
    "name": "ipython",
    "version": 3
   },
   "file_extension": ".py",
   "mimetype": "text/x-python",
   "name": "python",
   "nbconvert_exporter": "python",
   "pygments_lexer": "ipython3",
   "version": "3.12.4"
  }
 },
 "nbformat": 4,
 "nbformat_minor": 2
}
