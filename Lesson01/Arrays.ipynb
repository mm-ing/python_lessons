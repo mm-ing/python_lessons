{
 "cells": [
  {
   "cell_type": "markdown",
   "metadata": {},
   "source": [
    "Arrays: Liste"
   ]
  },
  {
   "cell_type": "code",
   "execution_count": 9,
   "metadata": {},
   "outputs": [
    {
     "name": "stdout",
     "output_type": "stream",
     "text": [
      "[2.72, 'e']\n",
      "[1, 'abc', [2.72, 'e'], 9, 8, 7]\n",
      "[1, 'abc', [2.72, 'e'], 1, 'abc', [2.72, 'e']]\n"
     ]
    }
   ],
   "source": [
    "# list contains different data types (slow, needs lot of memory) - add numbers or strings to the same list \n",
    "myList = [1, \"abc\", [2.72, \"e\"]]\n",
    "print (myList[2])\n",
    "\n",
    "# add 2 lists\n",
    "myList2 = [9, 8, 7]\n",
    "print (myList + myList2) \n",
    "\n",
    "# copy content of list\n",
    "print(2 * myList)"
   ]
  },
  {
   "cell_type": "markdown",
   "metadata": {},
   "source": [
    "Arrays: Array"
   ]
  },
  {
   "cell_type": "code",
   "execution_count": 3,
   "metadata": {},
   "outputs": [
    {
     "name": "stdout",
     "output_type": "stream",
     "text": [
      "3\n"
     ]
    }
   ],
   "source": [
    "# arrays contains only one data type (quick less memory) - create array of numbers \n",
    "import array as arr\n",
    "myArray = arr.array(\"I\", [1, 2, 3, 4, 5]) # I is the type code for unsigned integers\n",
    "print (myArray[2])"
   ]
  },
  {
   "cell_type": "markdown",
   "metadata": {},
   "source": [
    "Arrays: numpy array"
   ]
  },
  {
   "cell_type": "code",
   "execution_count": 2,
   "metadata": {},
   "outputs": [
    {
     "name": "stdout",
     "output_type": "stream",
     "text": [
      "3\n",
      "15\n",
      "[ 7  9 11 13 15]\n",
      "120\n",
      "[ 3  6  9 12 15]\n",
      "1\n",
      "5\n",
      "6\n",
      "3.0\n",
      "1.4142135623730951\n"
     ]
    }
   ],
   "source": [
    "# you can do a lot of calculations with numpy arrays - create array of numbers\n",
    "import numpy as np\n",
    "\n",
    "myArray = np.array([1, 2, 3, 4, 5])\n",
    "print (myArray[2])\n",
    "\n",
    "# calculate the sum of the array\n",
    "print (np.sum(myArray))\n",
    "\n",
    "# add 2 arrays\n",
    "myArray2 = np.array([6, 7, 8, 9, 10])\n",
    "print (myArray + myArray2)\n",
    "\n",
    "# calculate the product of the array\n",
    "print (np.prod(myArray))\n",
    "print (3 * myArray)\n",
    "\n",
    "# calculate the minimum of the array\n",
    "print (np.min(myArray))\n",
    "\n",
    "# calculate the maximum of the array\n",
    "print (np.max(myArray))\n",
    "\n",
    "# create a 2D array\n",
    "my2DArray = np.array([[1, 2, 3], [4, 5, 6], [7, 8, 9]])\n",
    "print (my2DArray[1, 2])\n",
    "\n",
    "# calculate the mean of the array\n",
    "print (np.mean(myArray))\n",
    "\n",
    "# calculate the standard deviation of the array\n",
    "print (np.std(myArray))\n"
   ]
  }
 ],
 "metadata": {
  "kernelspec": {
   "display_name": "Python 3",
   "language": "python",
   "name": "python3"
  },
  "language_info": {
   "codemirror_mode": {
    "name": "ipython",
    "version": 3
   },
   "file_extension": ".py",
   "mimetype": "text/x-python",
   "name": "python",
   "nbconvert_exporter": "python",
   "pygments_lexer": "ipython3",
   "version": "3.12.8"
  }
 },
 "nbformat": 4,
 "nbformat_minor": 2
}
