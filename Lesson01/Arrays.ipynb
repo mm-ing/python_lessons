{
 "cells": [
  {
   "cell_type": "markdown",
   "metadata": {},
   "source": [
    "Arrays: Liste (contains different items with differnt data types, changable, ordered with index, duplicates possible)"
   ]
  },
  {
   "cell_type": "code",
   "execution_count": null,
   "metadata": {},
   "outputs": [],
   "source": [
    "# list contains different data types (slow, needs lot of memory) - add numbers or strings to the same list \n",
    "myList = [1, \"abc\", [2.72, \"e\"], True]\n",
    "print (myList[2])\n",
    "\n",
    "# add 2 lists\n",
    "myList2 = [9, 8, 7]\n",
    "print (myList + myList2) \n",
    "\n",
    "# copy content of list\n",
    "print(2 * myList)"
   ]
  },
  {
   "cell_type": "markdown",
   "metadata": {},
   "source": [
    "Arrays: Sets (contains different items with differnt data types, changable, not ordered, no duplicates possible)"
   ]
  },
  {
   "cell_type": "code",
   "execution_count": 11,
   "metadata": {},
   "outputs": [
    {
     "name": "stdout",
     "output_type": "stream",
     "text": [
      "{1, 2.72, 'e', 'abc'}\n",
      "{1, 2.72, 3, 'abc', 'e'}\n",
      "{1, 2.72, 'abc', 'e'}\n",
      "{2.72, 'abc', 'e'}\n",
      "True\n",
      "{2.72, 'abc', 'e'}\n"
     ]
    },
    {
     "ename": "TypeError",
     "evalue": "set.pop() takes no arguments (1 given)",
     "output_type": "error",
     "traceback": [
      "\u001b[1;31m---------------------------------------------------------------------------\u001b[0m",
      "\u001b[1;31mTypeError\u001b[0m                                 Traceback (most recent call last)",
      "Cell \u001b[1;32mIn[11], line 11\u001b[0m\n\u001b[0;32m      9\u001b[0m \u001b[38;5;28mprint\u001b[39m(\u001b[38;5;241m2.72\u001b[39m \u001b[38;5;129;01min\u001b[39;00m myset)\n\u001b[0;32m     10\u001b[0m \u001b[38;5;28mprint\u001b[39m(myset)\n\u001b[1;32m---> 11\u001b[0m \u001b[43mmyset\u001b[49m\u001b[38;5;241;43m.\u001b[39;49m\u001b[43mpop\u001b[49m\u001b[43m(\u001b[49m\u001b[38;5;241;43m2\u001b[39;49m\u001b[43m)\u001b[49m \u001b[38;5;66;03m# remove random element\u001b[39;00m\n\u001b[0;32m     12\u001b[0m \u001b[38;5;28mprint\u001b[39m(myset)\n\u001b[0;32m     13\u001b[0m myset\u001b[38;5;241m.\u001b[39mclear() \u001b[38;5;66;03m# remove all elements\u001b[39;00m\n",
      "\u001b[1;31mTypeError\u001b[0m: set.pop() takes no arguments (1 given)"
     ]
    }
   ],
   "source": [
    "myset = {1, 'abc', 2.72, 'e', True}\n",
    "print(myset)\n",
    "myset.add(3)\n",
    "print(myset)\n",
    "myset.remove(3) #If the specified element is not found in the set, it raises a KeyError.\n",
    "print(myset)\n",
    "myset.discard(1) # If the specified element is not found in the set, it does nothing and does not raise an error.\n",
    "print(myset)\n",
    "print(2.72 in myset)\n",
    "print(myset)\n",
    "print(myset)\n",
    "myset.clear() # remove all elements\n",
    "print(myset[3]) # error, set does not support indexing"
   ]
  },
  {
   "cell_type": "markdown",
   "metadata": {},
   "source": [
    "Arrays: Array"
   ]
  },
  {
   "cell_type": "code",
   "execution_count": null,
   "metadata": {},
   "outputs": [],
   "source": [
    "# arrays contains only one data type (quick less memory) - create array of numbers \n",
    "import array as arr\n",
    "myArray = arr.array(\"I\", [1, 2, 3, 4, 5]) # I is the type code for unsigned integers\n",
    "print (myArray[2])"
   ]
  },
  {
   "cell_type": "markdown",
   "metadata": {},
   "source": [
    "Arrays: numpy array (lot of calculations with numpy arrays - create array of numbers)"
   ]
  },
  {
   "cell_type": "code",
   "execution_count": null,
   "metadata": {},
   "outputs": [],
   "source": [
    "# you can do a lot of calculations with numpy arrays - create array of numbers\n",
    "import numpy as np\n",
    "\n",
    "myArray = np.array([1, 2, 3, 4, 5])\n",
    "print (myArray[2])\n",
    "\n",
    "# calculate the sum of the array\n",
    "print (np.sum(myArray))\n",
    "\n",
    "# add 2 arrays\n",
    "myArray2 = np.array([6, 7, 8, 9, 10])\n",
    "print (myArray + myArray2)\n",
    "\n",
    "# calculate the product of the array\n",
    "print (np.prod(myArray))\n",
    "print (3 * myArray)\n",
    "\n",
    "# calculate the minimum of the array\n",
    "print (np.min(myArray))\n",
    "\n",
    "# calculate the maximum of the array\n",
    "print (np.max(myArray))\n",
    "\n",
    "# create a 2D array\n",
    "my2DArray = np.array([[1, 2, 3], [4, 5, 6], [7, 8, 9]])\n",
    "print (my2DArray[1, 2])\n",
    "\n",
    "# calculate the mean of the array\n",
    "print (np.mean(myArray))\n",
    "\n",
    "# calculate the standard deviation of the array\n",
    "print (np.std(myArray))\n"
   ]
  },
  {
   "cell_type": "markdown",
   "metadata": {},
   "source": [
    "Arrays: Tuple (collection is unchangable, not the content not the order)"
   ]
  },
  {
   "cell_type": "code",
   "execution_count": null,
   "metadata": {},
   "outputs": [],
   "source": [
    "# create a tuple\n",
    "thistuple = (\"banana\", \"cherry\", \"apple\")\n",
    "print(thistuple)\n",
    "\n",
    "# create a tuple with one item\n",
    "thistuple = (\"apple\",)\n",
    "print(type(thistuple))\n",
    "\n",
    "# create a not a tuple\n",
    "thistuple = (\"apple\")\n",
    "print(type(thistuple))\n",
    "\n",
    "# create a tuple without parentheses\n",
    "thistuple = \"apple\", \"banana\", \"cherry\"\n",
    "print(thistuple)\n",
    "\n",
    "# create a tuple with mixed data types\n",
    "thistuple = (\"abc\", 34, True, 40, \"male\")\n",
    "print(thistuple)\n",
    "\n",
    "# create a tuple with a list\n",
    "thistuple = (\"abc\", [34, 40], True)\n",
    "print(thistuple)\n",
    "\n",
    "# create a tuple from a list with and without a constructor\n",
    "thislist = [\"apple\", \"banana\", \"cherry\"]\n",
    "thistuple = ((thislist))\n",
    "print(thistuple)\n",
    "thistuple = tuple(thislist)\n",
    "print(thistuple)\n"
   ]
  }
 ],
 "metadata": {
  "kernelspec": {
   "display_name": "Python 3",
   "language": "python",
   "name": "python3"
  },
  "language_info": {
   "codemirror_mode": {
    "name": "ipython",
    "version": 3
   },
   "file_extension": ".py",
   "mimetype": "text/x-python",
   "name": "python",
   "nbconvert_exporter": "python",
   "pygments_lexer": "ipython3",
   "version": "3.12.8"
  }
 },
 "nbformat": 4,
 "nbformat_minor": 2
}
