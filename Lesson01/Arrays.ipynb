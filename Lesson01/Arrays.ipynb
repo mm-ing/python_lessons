{
 "cells": [
  {
   "cell_type": "markdown",
   "metadata": {},
   "source": [
    "Arrays: List (contains different items with differnt data types, changable, ordered with index, duplicates possible)"
   ]
  },
  {
   "cell_type": "code",
   "execution_count": null,
   "metadata": {},
   "outputs": [],
   "source": [
    "# list contains different data types (slow, needs lot of memory) - add numbers or strings to the same list \n",
    "myList = [1, \"abc\", [2.72, \"e\"], True]\n",
    "print (myList[2])\n",
    "\n",
    "# add 2 lists\n",
    "myList2 = [9, 8, 7]\n",
    "print (myList + myList2) \n",
    "\n",
    "# copy content of list\n",
    "print(2 * myList)"
   ]
  },
  {
   "cell_type": "markdown",
   "metadata": {},
   "source": [
    "Arrays: Sets (contains different items with differnt data types, changable, not ordered, no duplicates possible)"
   ]
  },
  {
   "cell_type": "code",
   "execution_count": null,
   "metadata": {},
   "outputs": [],
   "source": [
    "myset = {1, 'abc', 2.72, 'e', True}\n",
    "print(myset)\n",
    "myset.add(3)\n",
    "print(myset)\n",
    "myset.remove(3) #If the specified element is not found in the set, it raises a KeyError.\n",
    "print(myset)\n",
    "myset.discard(1) # If the specified element is not found in the set, it does nothing and does not raise an error.\n",
    "print(myset)\n",
    "print(2.72 in myset)\n",
    "print(myset)\n",
    "print(myset)\n",
    "myset.clear() # remove all elements\n",
    "print(myset[3]) # error, set does not support indexing"
   ]
  },
  {
   "cell_type": "markdown",
   "metadata": {},
   "source": [
    "Arrays: Array"
   ]
  },
  {
   "cell_type": "code",
   "execution_count": 12,
   "metadata": {},
   "outputs": [
    {
     "name": "stdout",
     "output_type": "stream",
     "text": [
      "3\n",
      "3.299999952316284\n",
      "3.3\n",
      "l\n"
     ]
    }
   ],
   "source": [
    "# arrays contains only one data type (quick less memory) - create array of numbers \n",
    "import array as arr\n",
    "myArray = arr.array(\"i\", [1, 2, 3, 4, 5]) # I is the type code for unsigned integers\n",
    "print (myArray[2])\n",
    "myArray = arr.array(\"f\", [1.1, 2.2, 3.3, 4.4, 5.5]) # f is the type code for floating point numbers\n",
    "print (myArray[2])\n",
    "myArray = arr.array(\"d\", [1.1, 2.2, 3.3, 4.4, 5.5]) # d is the type code for floating point numbers\n",
    "print (myArray[2])\n",
    "myArray = arr.array(\"u\", \"hello world\") # u is the type code for unicode characters\n",
    "print (myArray[2])"
   ]
  },
  {
   "cell_type": "markdown",
   "metadata": {},
   "source": [
    "Arrays: numpy array (lot of calculations with numpy arrays - create array of numbers)"
   ]
  },
  {
   "cell_type": "code",
   "execution_count": null,
   "metadata": {},
   "outputs": [],
   "source": [
    "# you can do a lot of calculations with numpy arrays - create array of numbers\n",
    "import numpy as np\n",
    "\n",
    "myArray = np.array([1, 2, 3, 4, 5])\n",
    "print (myArray[2])\n",
    "\n",
    "# calculate the sum of the array\n",
    "print (np.sum(myArray))\n",
    "\n",
    "# add 2 arrays\n",
    "myArray2 = np.array([6, 7, 8, 9, 10])\n",
    "print (myArray + myArray2)\n",
    "\n",
    "# calculate the product of the array\n",
    "print (np.prod(myArray))\n",
    "print (3 * myArray)\n",
    "\n",
    "# calculate the minimum of the array\n",
    "print (np.min(myArray))\n",
    "\n",
    "# calculate the maximum of the array\n",
    "print (np.max(myArray))\n",
    "\n",
    "# create a 2D array\n",
    "my2DArray = np.array([[1, 2, 3], [4, 5, 6], [7, 8, 9]])\n",
    "print (my2DArray[1, 2])\n",
    "\n",
    "# calculate the mean of the array\n",
    "print (np.mean(myArray))\n",
    "\n",
    "# calculate the standard deviation of the array\n",
    "print (np.std(myArray))\n"
   ]
  },
  {
   "cell_type": "markdown",
   "metadata": {},
   "source": [
    "Arrays: Tuple (collection is unchangable, not the content not the order)"
   ]
  },
  {
   "cell_type": "code",
   "execution_count": null,
   "metadata": {},
   "outputs": [],
   "source": [
    "# create a tuple\n",
    "thistuple = (\"banana\", \"cherry\", \"apple\")\n",
    "print(thistuple)\n",
    "\n",
    "# create a tuple with one item\n",
    "thistuple = (\"apple\",)\n",
    "print(type(thistuple))\n",
    "\n",
    "# create a not a tuple\n",
    "thistuple = (\"apple\")\n",
    "print(type(thistuple))\n",
    "\n",
    "# create a tuple without parentheses\n",
    "thistuple = \"apple\", \"banana\", \"cherry\"\n",
    "print(thistuple)\n",
    "\n",
    "# create a tuple with mixed data types\n",
    "thistuple = (\"abc\", 34, True, 40, \"male\")\n",
    "print(thistuple)\n",
    "\n",
    "# create a tuple with a list\n",
    "thistuple = (\"abc\", [34, 40], True)\n",
    "print(thistuple)\n",
    "\n",
    "# create a tuple from a list with and without a constructor\n",
    "thislist = [\"apple\", \"banana\", \"cherry\"]\n",
    "thistuple = ((thislist))\n",
    "print(thistuple)\n",
    "thistuple = tuple(thislist)\n",
    "print(thistuple)\n"
   ]
  }
 ],
 "metadata": {
  "kernelspec": {
   "display_name": "Python 3",
   "language": "python",
   "name": "python3"
  },
  "language_info": {
   "codemirror_mode": {
    "name": "ipython",
    "version": 3
   },
   "file_extension": ".py",
   "mimetype": "text/x-python",
   "name": "python",
   "nbconvert_exporter": "python",
   "pygments_lexer": "ipython3",
   "version": "3.12.8"
  }
 },
 "nbformat": 4,
 "nbformat_minor": 2
}
