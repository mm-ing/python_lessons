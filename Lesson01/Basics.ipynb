{
 "cells": [
  {
   "cell_type": "markdown",
   "metadata": {},
   "source": [
    "Simple programm"
   ]
  },
  {
   "cell_type": "code",
   "execution_count": null,
   "metadata": {},
   "outputs": [],
   "source": [
    "myText = \"Hello World\"\n",
    "print(myText)"
   ]
  },
  {
   "cell_type": "markdown",
   "metadata": {},
   "source": [
    "Handling Variables"
   ]
  },
  {
   "cell_type": "code",
   "execution_count": null,
   "metadata": {},
   "outputs": [],
   "source": [
    "myBox = ['USB-Stick', 'Connector']\n",
    "print(myBox)\n",
    "\n",
    "myList = [1, 2, 3, 4, 5]\t# List\n",
    "print(myList)       # [1, 2, 3, 4, 5]\n",
    "print(myList[0])\t# 1\n",
    "print(len(myList))\t# 5\n",
    "\n",
    "\n",
    "myText = f\"{myList[0]} and additional Text\"\n",
    "print(myText)\t# 1 and additional Text"
   ]
  },
  {
   "cell_type": "markdown",
   "metadata": {},
   "source": [
    "Data Types"
   ]
  },
  {
   "cell_type": "code",
   "execution_count": null,
   "metadata": {},
   "outputs": [],
   "source": [
    "# Text Type:\t    str\n",
    "myBox = 'USB-Stick'\n",
    "print(myBox)\n",
    "\n",
    "# Numeric Types:\tint, float, complex\n",
    "myIntNo = int(3)\n",
    "print (myIntNo)\n",
    "myFloatNo = float(5)\n",
    "print (myFloatNo)\n",
    "myComplexNo = complex(7j)\n",
    "print (f\"{myFloatNo}\" + \" is \" + str(type(myComplexNo)))\n",
    "print (myIntNo * myFloatNo)\n",
    "\n",
    "# Boolean Type\n",
    "print(10 > 9)\t# True"
   ]
  },
  {
   "cell_type": "markdown",
   "metadata": {},
   "source": [
    "Operators: mathematics"
   ]
  },
  {
   "cell_type": "code",
   "execution_count": null,
   "metadata": {},
   "outputs": [],
   "source": [
    "# Operators\n",
    "# Arithmetic Operators +, -, *, /, %, **, // \n",
    "\n",
    "result = 2+2\n",
    "print(result)\t# 4\n",
    "\n",
    "result = 2-2\n",
    "print(result)\t# 0\n",
    "\n",
    "result = 2*2\n",
    "print(result)\t# 4\n",
    "\n",
    "result = 2/2\n",
    "print(result)\t# 1.0 \n",
    "\n",
    "result = 5%2\n",
    "print(result)\t# 1.0 rest of division\n",
    "\n",
    "result = 2**2\n",
    "print(result)\t# 4\n",
    "\n",
    "result = 5//2\n",
    "print(result)\t# 2 the floor division // rounds the result down to the nearest whole number"
   ]
  },
  {
   "cell_type": "markdown",
   "metadata": {},
   "source": [
    "Operators: assignments"
   ]
  },
  {
   "cell_type": "code",
   "execution_count": null,
   "metadata": {},
   "outputs": [],
   "source": [
    "# Assignment Operators =, +=, -=, *=, /=, %=, **=, //=\n",
    "x = 5\n",
    "x += 3\n",
    "print(x)\t# 8\n",
    "\n",
    "x = 5\n",
    "x %= 3\n",
    "print(x)\t# 2\n",
    "\n",
    "x = 5\n",
    "x **= 3\n",
    "print(x)\t# 125\n",
    "\n",
    "x = 5\n",
    "x //= 3\n",
    "print(x)\t# 1"
   ]
  },
  {
   "cell_type": "markdown",
   "metadata": {},
   "source": [
    "Operators: logic"
   ]
  },
  {
   "cell_type": "code",
   "execution_count": null,
   "metadata": {},
   "outputs": [],
   "source": [
    "# Comparison Operators ==, !=, >, <, >=, <=\n",
    "# Logical Operators and, or, not (&, |, ~)\n",
    "# Identity Operators is, is not (== !=)\n",
    "# Membership Operators in, not in\n",
    "# Bitwise Operators &, |, ^, ~, <<, >>\n",
    "print(10 == 10)\t# True\n",
    "print(10 != 10)\t# False\n",
    "print(10 > 10)\t# False\n",
    "print(10 < 10)\t# False\n",
    "print(10 >= 10)\t# True\n",
    "print(10 <= 10)\t# True\n",
    "print(10 > 9 and 10 > 4)\t# True\n",
    "print(10 > 9 or 10 > 4)\t# True\n",
    "print(not(10 > 9 and 10 > 4))\t# False\n",
    "print(10 == 10)\t# True\n",
    "print(10 != 10)\t# False\n",
    "print(10 in myList)\t# False\n",
    "print(10 not in myList)\t# True\n",
    "print(10 &  4)\t# 0 -> 1010 & 0100 = 0000 AND\n",
    "print(10 |  4)\t# 14 -> 1010 | 0100 = 1110 OR\n",
    "print(14 ^  4)\t# 10 -> 1010 ^ 0100 = 1110 XOR\n",
    "print(~10)\t# -11 -> ~00001010 = 11110101 NOT\n",
    "print(10 <<  2)\t# 40 -> \n",
    "# 1010 << 2 = 101000 \n",
    "# LEFT SHIFT: Shift left by pushing zeros in from the right\n",
    "# and let the leftmost bits fall off\n",
    "print(10 >>  2)\t# 2 -> \n",
    "# 1010 >> 2 = 10 \n",
    "# RIGHT SHIFT: Shift right by pushing copies of the leftmost bit in from the left, \n",
    "# and let the rightmost bits fall off"
   ]
  },
  {
   "cell_type": "markdown",
   "metadata": {},
   "source": [
    "Math Rules"
   ]
  },
  {
   "cell_type": "code",
   "execution_count": null,
   "metadata": {},
   "outputs": [],
   "source": [
    "# 1. Klammern  \n",
    "# 2. Exponent   \n",
    "# 3. Multiplikation, Division   \n",
    "# 4. Addition, Subtraktion   \n",
    "# 5. links n. rechts\n",
    "print (12/3 * (12 * 3 + 2**4) - 1)\t# 207.0"
   ]
  },
  {
   "cell_type": "markdown",
   "metadata": {},
   "source": [
    "Conditions"
   ]
  },
  {
   "cell_type": "code",
   "execution_count": 1,
   "metadata": {},
   "outputs": [
    {
     "name": "stdout",
     "output_type": "stream",
     "text": [
      "Bitte Zahl eingeben:\n",
      "medium\n"
     ]
    }
   ],
   "source": [
    "# if statement - Bedingung\n",
    "print('Bitte Zahl eingeben:')\n",
    "x = input() # Eingabe von der Konsole (header)\t\n",
    "x = int(x)\t# Umwandlung in Integer\n",
    "if x < 2 :\n",
    "    print (\"very small\")\n",
    "elif x < 5 :\n",
    "    print (\"still small\")\n",
    "elif x < 10 :\n",
    "    print (\"medium\")\n",
    "else :\n",
    "    print(\"big\")"
   ]
  },
  {
   "cell_type": "code",
   "execution_count": 2,
   "metadata": {},
   "outputs": [
    {
     "name": "stdout",
     "output_type": "stream",
     "text": [
      "Bitte wählen Sie eine Frucht aus der Liste: ['Orangen', 'Papaya', 'Kiwi', 'Bananen']\n",
      "Bananen kosten pro Kilo € 1,90\n"
     ]
    }
   ],
   "source": [
    "costs = \"kosten pro Kilo €\"\n",
    "\n",
    "# list of fruits\n",
    "fruits = ['Orangen', 'Papaya', 'Kiwi', 'Bananen']\n",
    "\n",
    "# wait for input of list of fruits\n",
    "print('Bitte wählen Sie eine Frucht aus der Liste:', fruits)\n",
    "fruit = input()\n",
    "\n",
    "match fruit:\n",
    "    case 'Orangen':\n",
    "         print(f'{fruit} {costs} 2,20')\n",
    "    case 'Papaya'|'Kiwi':\n",
    "         print(f'{fruit} {costs} 3,50')\n",
    "    case 'Bananen':\n",
    "         print(f'{fruit} {costs} 1,90')\n",
    "    case _:\n",
    "        print(f'{fruit} haben wir heute nicht vorrätig')"
   ]
  }
 ],
 "metadata": {
  "kernelspec": {
   "display_name": "Python 3",
   "language": "python",
   "name": "python3"
  },
  "language_info": {
   "codemirror_mode": {
    "name": "ipython",
    "version": 3
   },
   "file_extension": ".py",
   "mimetype": "text/x-python",
   "name": "python",
   "nbconvert_exporter": "python",
   "pygments_lexer": "ipython3",
   "version": "3.12.8"
  }
 },
 "nbformat": 4,
 "nbformat_minor": 2
}
