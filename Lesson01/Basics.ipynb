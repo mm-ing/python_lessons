{
 "cells": [
  {
   "cell_type": "markdown",
   "metadata": {},
   "source": [
    "Handling Variables"
   ]
  },
  {
   "cell_type": "code",
   "execution_count": null,
   "metadata": {},
   "outputs": [],
   "source": [
    "myBox = ['USB-Stick', 'Connector']\n",
    "print(myBox)\n",
    "\n",
    "\n",
    "\n",
    "myList = [1, 2, 3, 4, 5]\t# List\n",
    "print(myList)       # [1, 2, 3, 4, 5]\n",
    "print(myList[0])\t# 1\n",
    "print(len(myList))\t# 5\n",
    "\n",
    "\n",
    "myText = f\"{myList[0]} and additional Text\"\n",
    "print(myText)\t# 1 and additional Text\n"
   ]
  },
  {
   "cell_type": "markdown",
   "metadata": {},
   "source": [
    "Data Types"
   ]
  },
  {
   "cell_type": "code",
   "execution_count": null,
   "metadata": {},
   "outputs": [],
   "source": [
    "# Text Type:\t    str\n",
    "myBox = 'USB-Stick'\n",
    "print(myBox)\n",
    "\n",
    "# Numeric Types:\tint, float, complex\n",
    "myIntNo = int(3)\n",
    "print (myIntNo)\n",
    "myFloatNo = float(5)\n",
    "print (myFloatNo)\n",
    "myComplexNo = complex(7j)\n",
    "print (f\"{myFloatNo}\" + \" is \" + str(type(myComplexNo)))\n",
    "\n",
    "\n",
    "# Sequence Types:\tlist, tuple, range\n",
    "\n",
    "# Mapping Type:\t    dict\n",
    "# Set Types:\t    set, frozenset\n",
    "# Boolean Type:\t    bool\n",
    "# Binary Types:\t    bytes, bytearray, memoryview\n",
    "# None Type:\t    NoneType"
   ]
  },
  {
   "cell_type": "markdown",
   "metadata": {},
   "source": [
    "Operators"
   ]
  },
  {
   "cell_type": "code",
   "execution_count": null,
   "metadata": {},
   "outputs": [],
   "source": [
    "result = 2+2\n",
    "print(result)\t# 4"
   ]
  },
  {
   "cell_type": "markdown",
   "metadata": {},
   "source": [
    "Conditions"
   ]
  },
  {
   "cell_type": "code",
   "execution_count": null,
   "metadata": {},
   "outputs": [],
   "source": [
    "x = 8\n",
    "print\n",
    "if x < 2 :\n",
    "    print (\"very small\")\n",
    "elif x < 5 :\n",
    "    print (\"still small\")\n",
    "elif x < 10 :\n",
    "    print (\"medium\")\n",
    "else :\n",
    "    print(\"big\")"
   ]
  },
  {
   "cell_type": "code",
   "execution_count": null,
   "metadata": {},
   "outputs": [],
   "source": [
    "costs = \"kosten pro Kilo €\"\n",
    "term = 'Orangen'\n",
    "match term:\n",
    "    case 'Orangen':\n",
    "         print(f'{term} {costs} 2,20')\n",
    "    case 'Papaya'|'Kiwi':\n",
    "         print(f'{term} {costs} 3,50')\n",
    "    case 'Bananen':\n",
    "         print(f'{term} {costs} 1,90')\n",
    "    case _:\n",
    "        print(f'{term} haben wir heute nicht vorrätig')"
   ]
  }
 ],
 "metadata": {
  "kernelspec": {
   "display_name": "Python 3",
   "language": "python",
   "name": "python3"
  },
  "language_info": {
   "codemirror_mode": {
    "name": "ipython",
    "version": 3
   },
   "file_extension": ".py",
   "mimetype": "text/x-python",
   "name": "python",
   "nbconvert_exporter": "python",
   "pygments_lexer": "ipython3",
   "version": "3.12.3"
  }
 },
 "nbformat": 4,
 "nbformat_minor": 2
}
