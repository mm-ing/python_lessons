{
 "cells": [
  {
   "cell_type": "markdown",
   "metadata": {},
   "source": [
    "Handling Variables"
   ]
  },
  {
   "cell_type": "code",
   "execution_count": 1,
   "metadata": {},
   "outputs": [
    {
     "name": "stdout",
     "output_type": "stream",
     "text": [
      "['USB-Stick', 'Connector']\n",
      "[1, 2, 3, 4, 5]\n",
      "1\n",
      "5\n",
      "1 and additional Text\n"
     ]
    }
   ],
   "source": [
    "myBox = ['USB-Stick', 'Connector']\n",
    "print(myBox)\n",
    "\n",
    "\n",
    "\n",
    "myList = [1, 2, 3, 4, 5]\t# List\n",
    "print(myList)       # [1, 2, 3, 4, 5]\n",
    "print(myList[0])\t# 1\n",
    "print(len(myList))\t# 5\n",
    "\n",
    "\n",
    "myText = f\"{myList[0]} and additional Text\"\n",
    "print(myText)\t# 1 and additional Text\n"
   ]
  },
  {
   "cell_type": "markdown",
   "metadata": {},
   "source": [
    "Data Types"
   ]
  },
  {
   "cell_type": "code",
   "execution_count": null,
   "metadata": {},
   "outputs": [],
   "source": [
    "# Text Type:\t    str\n",
    "myBox = 'USB-Stick'\n",
    "print(myBox)\n",
    "\n",
    "# Numeric Types:\tint, float, complex\n",
    "myIntNo = int(3)\n",
    "print (myIntNo)\n",
    "myFloatNo = float(5)\n",
    "print (myFloatNo)\n",
    "myComplexNo = complex(7j)\n",
    "print (f\"{myFloatNo}\" + \" is \" + str(type(myComplexNo)))\n",
    "\n",
    "# Boolean Type\n",
    "print(10 > 9)\t# True\n",
    "\n",
    "# Sequence Types:\tlist, tuple, range\n",
    "\n",
    "# Mapping Type:\t    dict\n",
    "# Set Types:\t    set, frozenset\n",
    "# Binary Types:\t    bytes, bytearray, memoryview\n",
    "# None Type:\t    NoneType"
   ]
  },
  {
   "cell_type": "markdown",
   "metadata": {},
   "source": [
    "Operators"
   ]
  },
  {
   "cell_type": "code",
   "execution_count": null,
   "metadata": {},
   "outputs": [],
   "source": [
    "# Operators\n",
    "# Arithmetic Operators +, -, *, /, %, **, // the floor division // rounds the result down to the nearest whole number\n",
    "# Assignment Operators =, +=, -=, *=, /=, %=, **=, //=\n",
    "# Comparison Operators ==, !=, >, <, >=, <=\n",
    "# Logical Operators and, or, not\n",
    "# Identity Operators is, is not\n",
    "# Membership Operators in, not in\n",
    "# Bitwise Operators &, |, ^, ~, <<, >>\n",
    "\n",
    "result = 2+2\n",
    "print(result)\t# 4 "
   ]
  },
  {
   "cell_type": "markdown",
   "metadata": {},
   "source": [
    "Conditions"
   ]
  },
  {
   "cell_type": "code",
   "execution_count": 6,
   "metadata": {},
   "outputs": [
    {
     "name": "stdout",
     "output_type": "stream",
     "text": [
      "Bitte Zahl eingeben:\n",
      "big\n"
     ]
    }
   ],
   "source": [
    "# if statement - Bedinung\n",
    "\n",
    "print('Bitte Zahl eingeben:')\n",
    "x = input() # Eingabe\t\n",
    "x = int(x)\t# Umwandlung in Integer\n",
    "\n",
    "if x < 2 :\n",
    "    print (\"very small\")\n",
    "elif x < 5 :\n",
    "    print (\"still small\")\n",
    "elif x < 10 :\n",
    "    print (\"medium\")\n",
    "else :\n",
    "    print(\"big\")"
   ]
  },
  {
   "cell_type": "code",
   "execution_count": 7,
   "metadata": {},
   "outputs": [
    {
     "name": "stdout",
     "output_type": "stream",
     "text": [
      "Bitte wählen Sie eine Frucht aus der Liste: ['Orangen', 'Papaya', 'Kiwi', 'Bananen']\n",
      "Kiwi kosten pro Kilo € 3,50\n"
     ]
    }
   ],
   "source": [
    "costs = \"kosten pro Kilo €\"\n",
    "\n",
    "# list of fruits\n",
    "fruits = ['Orangen', 'Papaya', 'Kiwi', 'Bananen']\n",
    "\n",
    "# wait for input of list of fruits\n",
    "print('Bitte wählen Sie eine Frucht aus der Liste:', fruits)\n",
    "fruit = input()\n",
    "\n",
    "match fruit:\n",
    "    case 'Orangen':\n",
    "         print(f'{fruit} {costs} 2,20')\n",
    "    case 'Papaya'|'Kiwi':\n",
    "         print(f'{fruit} {costs} 3,50')\n",
    "    case 'Bananen':\n",
    "         print(f'{fruit} {costs} 1,90')\n",
    "    case _:\n",
    "        print(f'{fruit} haben wir heute nicht vorrätig')"
   ]
  }
 ],
 "metadata": {
  "kernelspec": {
   "display_name": "Python 3",
   "language": "python",
   "name": "python3"
  },
  "language_info": {
   "codemirror_mode": {
    "name": "ipython",
    "version": 3
   },
   "file_extension": ".py",
   "mimetype": "text/x-python",
   "name": "python",
   "nbconvert_exporter": "python",
   "pygments_lexer": "ipython3",
   "version": "3.12.8"
  }
 },
 "nbformat": 4,
 "nbformat_minor": 2
}
