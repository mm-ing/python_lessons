{
 "cells": [
  {
   "cell_type": "markdown",
   "metadata": {},
   "source": [
    "Classes: simple"
   ]
  },
  {
   "cell_type": "code",
   "execution_count": null,
   "metadata": {},
   "outputs": [],
   "source": [
    "class MyClass:\n",
    "  x = 5\n",
    "\n",
    "p1 = MyClass()\n",
    "print(p1.x)"
   ]
  },
  {
   "cell_type": "markdown",
   "metadata": {},
   "source": [
    "Classes: with initializing"
   ]
  },
  {
   "cell_type": "code",
   "execution_count": 3,
   "metadata": {},
   "outputs": [
    {
     "name": "stdout",
     "output_type": "stream",
     "text": [
      "John\n",
      "36\n",
      "Bello\n",
      "3\n",
      "Bello barks.\n",
      "Bello barks.\n",
      "Bello barks.\n",
      "Bello barks.\n",
      "Bello barks.\n",
      "Bello barks.\n",
      "Bello barks.\n",
      "Bello barks.\n",
      "Bello barks.\n",
      "Bello barks.\n",
      "Bello is too tired to bark.\n",
      "Energie: 0\n",
      "Bello is taking a nap...\n",
      "Energie: 100\n",
      "Bello barks.\n"
     ]
    }
   ],
   "source": [
    "class Person:\n",
    "  def __init__(self, name, age):\n",
    "    self.name = name\n",
    "    self.age = age\n",
    "p1 = Person(\"John\", 36)\n",
    "print(p1.name)\n",
    "print(p1.age)\n",
    "# -------------------------\n",
    "class dog: \n",
    "  def __init__(self, name, alter): \n",
    "    self.name = name \n",
    "    self.age = alter\n",
    "    self.energy = 100 # Attribut für Energie\n",
    "  def bark(self): \n",
    "    if self.energy > 0:\n",
    "      self.energy -= 10\n",
    "      print(f\"{self.name} barks.\") # Erstellen eines Objekts der Klasse Hund \n",
    "    else:\n",
    "      print(f\"{self.name} is too tired to bark.\")\n",
    "\n",
    "  def nap(self): \n",
    "      print(f\"{self.name} is taking a nap...\")\n",
    "      self.energy = 100\n",
    "\n",
    "mein_hund = dog(\"Bello\", 3) # Zugriff auf Attribute und Methoden des Objekts \n",
    "print(mein_hund.name) # Ausgabe: Bello \n",
    "print(mein_hund.age) # Ausgabe: 3 \n",
    "for i in range(11): # Hund bellt 12 Mal\n",
    "  mein_hund.bark() # Ausgabe: Bello bellt.\n",
    "print(f\"Energie: {mein_hund.energy}\") # Ausgabe: Energie: 0\n",
    "mein_hund.nap() # Hund macht ein Nickerchen\n",
    "print(f\"Energie: {mein_hund.energy}\") # Ausgabe: Energie: 100\n",
    "mein_hund.bark() # Ausgabe: Bello bellt."
   ]
  },
  {
   "cell_type": "markdown",
   "metadata": {},
   "source": [
    "Classes: with functions and str-function"
   ]
  },
  {
   "cell_type": "code",
   "execution_count": null,
   "metadata": {},
   "outputs": [],
   "source": [
    "import random\n",
    "\n",
    "class Person:\n",
    "  def __init__(self, name):\n",
    "    self.name = name\n",
    "    self.age = self.selecteAge()\n",
    "  def selecteAge(self):\n",
    "    return random.randint(1, 100)\n",
    "  def __str__(self):\n",
    "    return f\"Hello my name is {self.name} \\n I am {self.age} years old\"\n",
    "   \n",
    "\n",
    "p1 = Person(\"John\")\n",
    "print(p1)"
   ]
  },
  {
   "cell_type": "markdown",
   "metadata": {},
   "source": [
    "Classes: change properties and delete class"
   ]
  },
  {
   "cell_type": "code",
   "execution_count": null,
   "metadata": {},
   "outputs": [],
   "source": [
    "import random\n",
    "\n",
    "class Person:\n",
    "  def __init__(self, name):\n",
    "    self.name = name\n",
    "    self.setAge()\n",
    "  def setAge(self):\n",
    "    self.age = random.randint(1, 100)\n",
    "  def __str__(self):\n",
    "    return f\"Hello my name is {self.name} \\n I am {self.age} years old\"\n",
    "   \n",
    "\n",
    "p1 = Person(\"John\")\n",
    "print(p1)\n",
    "p1.name = \"Roger Rabbit\"\n",
    "p1.setAge()\n",
    "print(p1)\n",
    "p2 = Person(\"Jane\")\n",
    "print(p2)\n",
    "\n",
    "del p1\n",
    "del p2\n",
    "# print(p1) # NameError: name 'p1' is not defined"
   ]
  }
 ],
 "metadata": {
  "kernelspec": {
   "display_name": "Python 3",
   "language": "python",
   "name": "python3"
  },
  "language_info": {
   "codemirror_mode": {
    "name": "ipython",
    "version": 3
   },
   "file_extension": ".py",
   "mimetype": "text/x-python",
   "name": "python",
   "nbconvert_exporter": "python",
   "pygments_lexer": "ipython3",
   "version": "3.12.10"
  }
 },
 "nbformat": 4,
 "nbformat_minor": 2
}
