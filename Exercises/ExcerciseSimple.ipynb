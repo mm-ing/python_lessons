{
 "cells": [
  {
   "cell_type": "markdown",
   "id": "c5b7009b",
   "metadata": {},
   "source": [
    "Number Loop\n",
    "Spezifikation: Schreibe Python Code, der durch die ersten 10 Ziffern läuft und in jeder Iteration in der Console die Ausgabe „Aktuelle Zahl: “, „vorherige Zahl: “ und „Summe bisheriger Zahlen: “ anzeigt. Beende das Programm mit dem Wort „Fertig!“"
   ]
  },
  {
   "cell_type": "code",
   "execution_count": null,
   "id": "9db96be2",
   "metadata": {},
   "outputs": [],
   "source": [
    "# Write Python code to iterate through the first 10 numbers and, in each iteration, print the sum of the current and previous number.\n",
    "sum = 0\n",
    "for i in range(10):\n",
    "    sum += i\n",
    "    print(f\"Aktuelle Zahl: {i}\" + f\" vorherige Zahl: {i-1}\" + f\" Summe bisheriger Zahlen: {sum}\")\n",
    "print(\"Fertig!\")"
   ]
  },
  {
   "cell_type": "markdown",
   "id": "655fcda6",
   "metadata": {},
   "source": [
    "Even-Characters\n",
    "Spezifikation: Schreibe Python Code, der eine Zeichenkette von einem Anwender akzeptiert und ausschließlich die Zeichen ausgibt, die einen geraden Index haben."
   ]
  },
  {
   "cell_type": "code",
   "execution_count": null,
   "id": "757e6142",
   "metadata": {},
   "outputs": [],
   "source": [
    "# Write a Python code to accept a string from the user and display characters present at an even index number.\n",
    "user_input = input(\"Bitte geben Sie einen Text ein: \")\n",
    "print(\"Eingegebener Text:\", user_input)\n",
    "even_index_chars = []\n",
    "for i in range(len(user_input)):\n",
    "    if i % 2 == 0:\n",
    "        even_index_chars.append(user_input[i])\n",
    "# short form: even_index_chars = [user_input[i] for i in range(len(user_input)) if i % 2 == 0]\n",
    "print(\"Zeichen an geraden Indizes:\", even_index_chars)"
   ]
  },
  {
   "cell_type": "markdown",
   "id": "9069285a",
   "metadata": {},
   "source": [
    "Remove-Characters\n",
    "Spezifikation: Schreibe Python Code, der mit Hilfe einer Funktion die ersten n Zeichen (eingeben lassen) eines eingegebenen Textes entfernt und den alten Text, die Anzahl und den neuen, gekürzten Text anzeigt."
   ]
  },
  {
   "cell_type": "code",
   "execution_count": null,
   "id": "f9ba9918",
   "metadata": {},
   "outputs": [],
   "source": [
    "#Write a Python code with use of a function to remove characters from a string from 0 to n and return a new string.\n",
    "def remove_characters(input_string, n):\n",
    "    if n < 0:\n",
    "        return input_string\n",
    "    return input_string[n:]\n",
    "\n",
    "input_string = input(\"Bitte geben Sie einen Text ein: \")\n",
    "n = int(input(\"Bitte geben Sie die Anzahl der zu entfernenden Zeichen ein: \"))\n",
    "print(f\"Eingegebener Text: {input_string} - gewählte Anzahl zu entfernender Zeichen: {n}\")\n",
    "result_string = remove_characters(input_string, n)\n",
    "print(\"Neuer Text nach Entfernen der Zeichen:\", result_string)"
   ]
  },
  {
   "cell_type": "markdown",
   "id": "c3710797",
   "metadata": {},
   "source": [
    "Star-Halfpyramid\n",
    "Schreibe Python Code, der eine Halb-Pyramide aus Sternchen ausgibt."
   ]
  },
  {
   "cell_type": "code",
   "execution_count": null,
   "id": "21dbc500",
   "metadata": {},
   "outputs": [],
   "source": [
    "#Print a downward half-pyramid pattern of stars\n",
    "def print_half_pyramid(rows):\n",
    "    for i in range(rows, 0, -1):\n",
    "        print('*' * i)\n",
    "\n",
    "rows = int(input(\"Bitte geben Sie die Anzahl der Zeilen für die halbe Pyramide ein: \"))\n",
    "print_half_pyramid(rows)"
   ]
  },
  {
   "cell_type": "markdown",
   "id": "4489f3c5",
   "metadata": {},
   "source": [
    "Leap-Year\n",
    "Spezifikation: Schreibe Python Code, der mit Hilfe einer Funktion prüft, ob es sich um ein Schalt-Jahr handelt. Jahreszahl anfragen und Ergebnis ausgeben.\n",
    "Regel: Teilbar durch 4, dann ist es ein potenzielles Schaltjahr. Außer bei Jahrhunderten, dabei muss es auch durch 400 teilbar sein."
   ]
  },
  {
   "cell_type": "code",
   "execution_count": null,
   "id": "21b53347",
   "metadata": {},
   "outputs": [],
   "source": [
    "#Check if a given year is a leap year\n",
    "def is_leap_year(year):\n",
    "  if year % 4 == 0:\n",
    "    if year % 100 == 0:\n",
    "      if year % 400 == 0:\n",
    "        return True\n",
    "      else:\n",
    "        return False\n",
    "    else:\n",
    "      return True\n",
    "  else:\n",
    "    return False\n",
    "year = int(input(\"Bitte geben Sie ein Jahr ein: \"))\n",
    "if is_leap_year(year):\n",
    "    print(f\"{year} ist ein Schaltjahr.\")\n",
    "else:\n",
    "    print(f\"{year} ist kein Schaltjahr.\")"
   ]
  },
  {
   "cell_type": "markdown",
   "id": "066e9d75",
   "metadata": {},
   "source": [
    "Countdown\n",
    "Spezifikation: Schreibe Python Code, der mit Hilfe einer Funktion und einer „while-loop“ einen Countdown herunter zählt."
   ]
  },
  {
   "cell_type": "code",
   "execution_count": null,
   "id": "314d5dac",
   "metadata": {},
   "outputs": [],
   "source": [
    "#Create a simple countdown timer using a while loop.\n",
    "import time\n",
    "input_seconds = input(\"Bitte geben Sie die Anzahl der Sekunden für den Countdown ein: \")\n",
    "def countdown_timer(seconds):\n",
    "    while seconds > 0:\n",
    "        print(f\"Zeit verbleibend: {seconds} Sekunden!\", end='\\r')\n",
    "        time.sleep(1)\n",
    "        seconds -= 1\n",
    "    print(\"Zeit abgelaufen!                                    \")\n",
    "countdown_timer(int(input_seconds))"
   ]
  },
  {
   "cell_type": "markdown",
   "id": "56c28917",
   "metadata": {},
   "source": [
    "Boolean-Operators\n",
    "Spezifikation: Schreibe Python Code, der Schreibe Python Code, der der mit Hilfe einer Funktion und nach Eingabe von zwei bool’schen Werten die Ergebnisse für die Bool'sche Operatoren „Und“, „Oder“ und „Not“ zeigt."
   ]
  },
  {
   "cell_type": "code",
   "execution_count": null,
   "id": "7dce7a60",
   "metadata": {},
   "outputs": [],
   "source": [
    "#give a sample for boolean operators\n",
    "def boolean_operations(a, b):\n",
    "    print(f\"a: {a}, b: {b}\")\n",
    "    print(\"a and b:\", a and b)\n",
    "    print(\"a or b:\", a or b)\n",
    "    print(\"not a:\", not a)\n",
    "    print(\"not b:\", not b)\n",
    "\n",
    "# ask for boolean values\n",
    "a = input(\"Bitte geben Sie den Wert für a (True/False) ein: \").strip().lower() == 'true'\n",
    "b = input(\"Bitte geben Sie den Wert für b (True/False) ein: \").strip().lower() == 'true'\n",
    "boolean_operations(a, b)"
   ]
  },
  {
   "cell_type": "markdown",
   "id": "620f4e7b",
   "metadata": {},
   "source": [
    "Anagramm\n",
    "Spezifikation: Schreibe Python Code, der mit Hilfe einer Funktion prüft, ob die eingegebene Zahl ein Anagramm ist."
   ]
  },
  {
   "cell_type": "code",
   "execution_count": null,
   "id": "b84435f2",
   "metadata": {},
   "outputs": [],
   "source": [
    "# write a function with an given single number to check it is an anagram\n",
    "def is_anagram_number(num):\n",
    "    num_str = str(num)\n",
    "    return num_str == num_str[::-1]\n",
    "\n",
    "# Beispiel:\n",
    "number = int(input(\"Bitte geben Sie eine Zahl ein: \"))\n",
    "if is_anagram_number(number):\n",
    "    print(f\"{number} ist ein Anagramm (Palindrom).\")\n",
    "else:\n",
    "    print(f\"{number} ist kein Anagramm.\")"
   ]
  }
 ],
 "metadata": {
  "kernelspec": {
   "display_name": "Python 3",
   "language": "python",
   "name": "python3"
  },
  "language_info": {
   "codemirror_mode": {
    "name": "ipython",
    "version": 3
   },
   "file_extension": ".py",
   "mimetype": "text/x-python",
   "name": "python",
   "nbconvert_exporter": "python",
   "pygments_lexer": "ipython3",
   "version": "3.12.10"
  }
 },
 "nbformat": 4,
 "nbformat_minor": 5
}
