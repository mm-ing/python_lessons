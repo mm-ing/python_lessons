{
 "cells": [
  {
   "cell_type": "markdown",
   "id": "c5b7009b",
   "metadata": {},
   "source": [
    "Number Loop"
   ]
  },
  {
   "cell_type": "code",
   "execution_count": null,
   "id": "9db96be2",
   "metadata": {},
   "outputs": [],
   "source": [
    "for i in range(10):\n",
    "    sum += i\n",
    "    print(f\"Aktuelle Zahl: {i}\" + f\" vorherige Zahl: {i-1}\" + f\" Summe bisheriger Zahlen:  {sum}\")\n",
    "print(\"Fertig!\")"
   ]
  }
 ],
 "metadata": {
  "kernelspec": {
   "display_name": "Python 3",
   "language": "python",
   "name": "python3"
  },
  "language_info": {
   "codemirror_mode": {
    "name": "ipython",
    "version": 3
   },
   "file_extension": ".py",
   "mimetype": "text/x-python",
   "name": "python",
   "nbconvert_exporter": "python",
   "pygments_lexer": "ipython3",
   "version": "3.12.10"
  }
 },
 "nbformat": 4,
 "nbformat_minor": 5
}
