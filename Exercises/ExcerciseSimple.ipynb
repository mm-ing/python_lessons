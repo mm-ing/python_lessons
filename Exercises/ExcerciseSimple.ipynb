{
 "cells": [
  {
   "cell_type": "markdown",
   "id": "c5b7009b",
   "metadata": {},
   "source": [
    "Number Loop ---\n",
    "Spezifikation: Schreibe Python Code, der durch die ersten 10 Ziffern läuft und in jeder Iteration in der Console die Ausgabe „Aktuelle Zahl: “, „vorherige Zahl: “ und „Summe bisheriger Zahlen: “ anzeigt. Beende das Programm mit dem Wort „Fertig!“"
   ]
  },
  {
   "cell_type": "code",
   "execution_count": 12,
   "id": "9db96be2",
   "metadata": {},
   "outputs": [
    {
     "name": "stdout",
     "output_type": "stream",
     "text": [
      "Aktuelle Zahl: 0 vorherige Zahl: -1 Summe bisheriger Zahlen: 0\n",
      "Aktuelle Zahl: 1 vorherige Zahl: 0 Summe bisheriger Zahlen: 1\n",
      "Aktuelle Zahl: 2 vorherige Zahl: 1 Summe bisheriger Zahlen: 3\n",
      "Aktuelle Zahl: 3 vorherige Zahl: 2 Summe bisheriger Zahlen: 6\n",
      "Aktuelle Zahl: 4 vorherige Zahl: 3 Summe bisheriger Zahlen: 10\n",
      "Aktuelle Zahl: 5 vorherige Zahl: 4 Summe bisheriger Zahlen: 15\n",
      "Aktuelle Zahl: 6 vorherige Zahl: 5 Summe bisheriger Zahlen: 21\n",
      "Aktuelle Zahl: 7 vorherige Zahl: 6 Summe bisheriger Zahlen: 28\n",
      "Aktuelle Zahl: 8 vorherige Zahl: 7 Summe bisheriger Zahlen: 36\n",
      "Aktuelle Zahl: 9 vorherige Zahl: 8 Summe bisheriger Zahlen: 45\n",
      "Fertig!\n"
     ]
    }
   ],
   "source": [
    "# Write Python code to iterate through the first 10 numbers and, in each iteration, print the sum of the current and previous number.\n",
    "sum = 0\n",
    "for i in range(10):\n",
    "    sum += i\n",
    "    print(f\"Aktuelle Zahl: {i}\" + f\" vorherige Zahl: {i-1}\" + f\" Summe bisheriger Zahlen: {sum}\")\n",
    "print(\"Fertig!\")"
   ]
  },
  {
   "cell_type": "markdown",
   "id": "9ce5430e",
   "metadata": {},
   "source": [
    "Even-Characters ---\n",
    "Spezifikation: Schreibe Python Code, der eine Zeichenkette von einem Anwender akzeptiert und ausschließlich die Zeichen ausgibt, die einen geraden Index haben."
   ]
  },
  {
   "cell_type": "code",
   "execution_count": 13,
   "id": "757e6142",
   "metadata": {},
   "outputs": [
    {
     "ename": "TypeError",
     "evalue": "'str' object is not callable",
     "output_type": "error",
     "traceback": [
      "\u001b[1;31m---------------------------------------------------------------------------\u001b[0m",
      "\u001b[1;31mTypeError\u001b[0m                                 Traceback (most recent call last)",
      "Cell \u001b[1;32mIn[13], line 2\u001b[0m\n\u001b[0;32m      1\u001b[0m \u001b[38;5;66;03m# Write a Python code to accept a string from the user and display characters present at an even index number.\u001b[39;00m\n\u001b[1;32m----> 2\u001b[0m user_input \u001b[38;5;241m=\u001b[39m \u001b[38;5;28;43minput\u001b[39;49m\u001b[43m(\u001b[49m\u001b[38;5;124;43m\"\u001b[39;49m\u001b[38;5;124;43mBitte geben Sie einen Text ein: \u001b[39;49m\u001b[38;5;124;43m\"\u001b[39;49m\u001b[43m)\u001b[49m\n\u001b[0;32m      3\u001b[0m \u001b[38;5;28mprint\u001b[39m(\u001b[38;5;124m\"\u001b[39m\u001b[38;5;124mEingegebener Text:\u001b[39m\u001b[38;5;124m\"\u001b[39m, user_input)\n\u001b[0;32m      4\u001b[0m even_index_chars \u001b[38;5;241m=\u001b[39m []\n",
      "\u001b[1;31mTypeError\u001b[0m: 'str' object is not callable"
     ]
    }
   ],
   "source": [
    "# Write a Python code to accept a string from the user and display characters present at an even index number.\n",
    "user_input = input(\"Bitte geben Sie einen Text ein: \")\n",
    "print(\"Eingegebener Text:\", user_input)\n",
    "even_index_chars = []\n",
    "for i in range(len(user_input)):\n",
    "    if i % 2 == 0:\n",
    "        even_index_chars.append(user_input[i])\n",
    "# short form: even_index_chars = [user_input[i] for i in range(len(user_input)) if i % 2 == 0]\n",
    "print(\"Zeichen an geraden Indizes:\", even_index_chars)"
   ]
  },
  {
   "cell_type": "markdown",
   "id": "9069285a",
   "metadata": {},
   "source": [
    "Remove-Characters ---\n",
    "Spezifikation: Schreibe Python Code, der mit Hilfe einer Funktion die ersten n Zeichen (eingeben lassen) eines eingegebenen Textes entfernt und den alten Text, die Anzahl und den neuen, gekürzten Text anzeigt."
   ]
  },
  {
   "cell_type": "code",
   "execution_count": null,
   "id": "f9ba9918",
   "metadata": {},
   "outputs": [],
   "source": [
    "#Write a Python code with use of a function to remove characters from a string from 0 to n and return a new string.\n",
    "def remove_characters(input_string, n):\n",
    "    if n < 0:\n",
    "        return input_string\n",
    "    return input_string[n:]\n",
    "\n",
    "input_string = input(\"Bitte geben Sie einen Text ein: \")\n",
    "n = int(input(\"Bitte geben Sie die Anzahl der zu entfernenden Zeichen ein: \"))\n",
    "print(f\"Eingegebener Text: {input_string} - gewählte Anzahl zu entfernender Zeichen: {n}\")\n",
    "result_string = remove_characters(input_string, n)\n",
    "print(\"Neuer Text nach Entfernen der Zeichen:\", result_string)"
   ]
  },
  {
   "cell_type": "markdown",
   "id": "c3710797",
   "metadata": {},
   "source": [
    "Star-Halfpyramid ---\n",
    "Schreibe Python Code, der eine Halb-Pyramide aus Sternchen ausgibt."
   ]
  },
  {
   "cell_type": "code",
   "execution_count": null,
   "id": "21dbc500",
   "metadata": {},
   "outputs": [],
   "source": [
    "#Print a downward half-pyramid pattern of stars\n",
    "def print_half_pyramid(rows):\n",
    "    for i in range(rows, 0, -1):\n",
    "        print('*' * i)\n",
    "\n",
    "rows = int(input(\"Bitte geben Sie die Anzahl der Zeilen für die halbe Pyramide ein: \"))\n",
    "print_half_pyramid(rows)"
   ]
  },
  {
   "cell_type": "markdown",
   "id": "4489f3c5",
   "metadata": {},
   "source": [
    "Leap-Year ---\n",
    "Spezifikation: Schreibe Python Code, der mit Hilfe einer Funktion prüft, ob es sich um ein Schalt-Jahr handelt. Jahreszahl anfragen und Ergebnis ausgeben.\n",
    "Regel: Teilbar durch 4, dann ist es ein potenzielles Schaltjahr. Außer bei Jahrhunderten, dabei muss es auch durch 400 teilbar sein."
   ]
  },
  {
   "cell_type": "code",
   "execution_count": null,
   "id": "21b53347",
   "metadata": {},
   "outputs": [],
   "source": [
    "#Check if a given year is a leap year\n",
    "def is_leap_year(year):\n",
    "  if year % 4 == 0:\n",
    "    if year % 100 == 0:\n",
    "      if year % 400 == 0:\n",
    "        return True\n",
    "      else:\n",
    "        return False\n",
    "    else:\n",
    "      return True\n",
    "  else:\n",
    "    return False\n",
    "year = int(input(\"Bitte geben Sie ein Jahr ein: \"))\n",
    "if is_leap_year(year):\n",
    "    print(f\"{year} ist ein Schaltjahr.\")\n",
    "else:\n",
    "    print(f\"{year} ist kein Schaltjahr.\")"
   ]
  },
  {
   "cell_type": "markdown",
   "id": "066e9d75",
   "metadata": {},
   "source": [
    "Countdown ---\n",
    "Spezifikation: Schreibe Python Code, der mit Hilfe einer Funktion und einer „while-loop“ einen Countdown herunter zählt."
   ]
  },
  {
   "cell_type": "code",
   "execution_count": null,
   "id": "314d5dac",
   "metadata": {},
   "outputs": [],
   "source": [
    "#Create a simple countdown timer using a while loop.\n",
    "import time\n",
    "input_seconds = input(\"Bitte geben Sie die Anzahl der Sekunden für den Countdown ein: \")\n",
    "def countdown_timer(seconds):\n",
    "    while seconds > 0:\n",
    "        print(f\"Zeit verbleibend: {seconds} Sekunden!\", end='\\r')\n",
    "        time.sleep(1)\n",
    "        seconds -= 1\n",
    "    print(\"Zeit abgelaufen!                                    \")\n",
    "countdown_timer(int(input_seconds))"
   ]
  },
  {
   "cell_type": "markdown",
   "id": "56c28917",
   "metadata": {},
   "source": [
    "Boolean-Operators ---\n",
    "Spezifikation: Schreibe Python Code, der Schreibe Python Code, der der mit Hilfe einer Funktion und nach Eingabe von zwei bool’schen Werten die Ergebnisse für die Bool'sche Operatoren „Und“, „Oder“ und „Not“ zeigt."
   ]
  },
  {
   "cell_type": "code",
   "execution_count": null,
   "id": "7dce7a60",
   "metadata": {},
   "outputs": [],
   "source": [
    "#give a sample for boolean operators\n",
    "def boolean_operations(a, b):\n",
    "    print(f\"a: {a}, b: {b}\")\n",
    "    print(\"a and b:\", a and b)\n",
    "    print(\"a or b:\", a or b)\n",
    "    print(\"not a:\", not a)\n",
    "    print(\"not b:\", not b)\n",
    "\n",
    "# ask for boolean values\n",
    "a = input(\"Bitte geben Sie den Wert für a (True/False) ein: \").strip().lower() == 'true'\n",
    "b = input(\"Bitte geben Sie den Wert für b (True/False) ein: \").strip().lower() == 'true'\n",
    "boolean_operations(a, b)"
   ]
  },
  {
   "cell_type": "markdown",
   "id": "620f4e7b",
   "metadata": {},
   "source": [
    "Anagramm ---\n",
    "Spezifikation: Schreibe Python Code, der mit Hilfe einer Funktion prüft, ob die eingegebene Zahl ein Anagramm ist."
   ]
  },
  {
   "cell_type": "code",
   "execution_count": null,
   "id": "b84435f2",
   "metadata": {},
   "outputs": [],
   "source": [
    "# write a function with an given single number to check it is an anagram\n",
    "def is_anagram_number(num):\n",
    "    num_str = str(num)\n",
    "    return num_str == num_str[::-1]\n",
    "\n",
    "# Beispiel:\n",
    "number = int(input(\"Bitte geben Sie eine Zahl ein: \"))\n",
    "if is_anagram_number(number):\n",
    "    print(f\"{number} ist ein Anagramm (Palindrom).\")\n",
    "else:\n",
    "    print(f\"{number} ist kein Anagramm.\")"
   ]
  },
  {
   "cell_type": "markdown",
   "id": "a5a4e23f",
   "metadata": {},
   "source": [
    "List-Element-Compare ---\n",
    "Spezifikation: Schreibe Python Code, der mit Hilfe einer Funktion prüft, ob die erste und letzte Zahl in einer Liste identisch ist."
   ]
  },
  {
   "cell_type": "code",
   "execution_count": null,
   "id": "3a7c83b4",
   "metadata": {},
   "outputs": [],
   "source": [
    "def first_last_same(numberList): \n",
    "    first_num = numberList[0]\n",
    "    last_num = numberList[-1]    \n",
    "    if first_num == last_num:\n",
    "        return True\n",
    "    else:\n",
    "        return False\n",
    "\n",
    "numbers_x = [10, 20, 30, 40, 10]\n",
    "print(\"Given list:\", numbers_x)\n",
    "print(\"result is\", first_last_same(numbers_x))\n",
    "\n",
    "numbers_y = [75, 65, 35, 75, 30]\n",
    "print(\"Given list:\", numbers_y)\n",
    "print(\"result is\", first_last_same(numbers_y))"
   ]
  },
  {
   "cell_type": "markdown",
   "id": "54c16165",
   "metadata": {},
   "source": [
    "Random-Check ---\n",
    "Spezifikation: Schreibe Python Code, der mit Hilfe einer Funktion prüft, ob die erzeugte Zufallszahl zwischen 1 und 100 eine gerade oder ungerade Zahl ist."
   ]
  },
  {
   "cell_type": "code",
   "execution_count": null,
   "id": "f02ff21c",
   "metadata": {},
   "outputs": [],
   "source": [
    "import random\n",
    "def is_even_or_odd(random_number):    \n",
    "    if random_number % 2 == 0:\n",
    "        return \"gerade.\"\n",
    "    else:\n",
    "        return \"ungerade.\"\n",
    "random_number = random.randint(1, 100)\n",
    "print(f\"Die Zufallszahl {random_number} ist {is_even_or_odd(random_number)}\")"
   ]
  },
  {
   "cell_type": "markdown",
   "id": "03414844",
   "metadata": {},
   "source": [
    "Fibonacci ---\n",
    "Spezifikation: Schreibe Python Code, der mit Hilfe einer Funktion eine Fibonacci-Folge erzeugt. Serie von Zahlen bei der die Folgezahl die Summe der beiden vorherigen Zahlen darstellt, beginnende mit 0 und 1."
   ]
  },
  {
   "cell_type": "code",
   "execution_count": null,
   "id": "2ccb5a67",
   "metadata": {},
   "outputs": [],
   "source": [
    "# first two numbers\n",
    "num1, num2 = 0, 1\n",
    "\n",
    "print(\"Fibonacci sequence:\")\n",
    "# run loop 15 times\n",
    "for i in range(15):\n",
    "    # print next number of a series\n",
    "    print(num1, end=\"  \")\n",
    "    # add last two numbers to get next number\n",
    "    res = num1 + num2\n",
    "\n",
    "    # update values\n",
    "    num1 = num2\n",
    "    num2 = res"
   ]
  },
  {
   "cell_type": "markdown",
   "id": "efec061a",
   "metadata": {},
   "source": [
    "Digit-In-String ---\n",
    "Spezifikation: Schreibe Python Code, der mit Hilfe einer Funktion ermittelt, wieviel Zahlen in einer Zeichenkette vorkommen."
   ]
  },
  {
   "cell_type": "code",
   "execution_count": null,
   "id": "779669ab",
   "metadata": {},
   "outputs": [],
   "source": [
    "def contains_digits(text):  \n",
    "  noOfDigits = 0\n",
    "  for char in text:\n",
    "    if '0' <= char <= '9':\n",
    "      noOfDigits += 1\n",
    "  return noOfDigits  \n",
    "\n",
    "# Get input from the user\n",
    "user_string = input(\"Enter a string: \")\n",
    "digits = contains_digits(user_string)\n",
    "\n",
    "if digits > 0:\n",
    "  print(f\"Der Text {user_string} enthält {digits} Zahlen.\")\n",
    "else:\n",
    "  print(f\"Der Text {user_string} enthält keine Zahlen.\")"
   ]
  },
  {
   "cell_type": "markdown",
   "id": "1518d6e9",
   "metadata": {},
   "source": [
    "Celsius To Fahrenheit ---\n",
    "Spezifikation: Schreibe Python Code, der mit Hilfe einer Funktion eine Temperatur in Fahrenheit konvertiert und umgekehrt. F = ( C × 9/5 ) + 32       C = ( F - 32 ) × 5/9\n"
   ]
  },
  {
   "cell_type": "code",
   "execution_count": null,
   "id": "d762e77b",
   "metadata": {},
   "outputs": [],
   "source": [
    "def celsius_to_fahrenheit(celsius):\n",
    "    # formula to convert Celsius to Fahrenheit\n",
    "    return (celsius * 9/5) + 32\n",
    "\n",
    "def fahrenheit_to_celsius(fahrenheit):\n",
    "    # formula to convert Fahrenheit to Celsius\n",
    "    return (fahrenheit - 32) * 5/9\n",
    "\n",
    "temperature = float(input(\"Temperatur eingeben: \"))\n",
    "i = input(\"Celsius in Fahrenheit: F oder Fahrenheit in Celsius C eingeben: \").strip().upper()\n",
    "if i == 'F':\n",
    "    f = celsius_to_fahrenheit(temperature)\n",
    "    print(f\"{temperature}°C ist {f:.2f}°F\")\n",
    "elif i == 'C':\n",
    "    c = fahrenheit_to_celsius(temperature)\n",
    "    print(f\"{temperature}°F ist {c:.2f}°C\")\n",
    "else:\n",
    "    print(\"Ungültige Eingabe. Bitte 'F' für Fahrenheit oder 'C' für Celsius eingeben.\")\n",
    "    exit()  "
   ]
  },
  {
   "cell_type": "markdown",
   "id": "604db192",
   "metadata": {},
   "source": [
    "Star-Pattern ---\n",
    "Spezifikation: Schreibe Python Code, der nach Eingabe einer Zahl ein Sterne Muster erzeugt, das von einem Stern aufsteigend bis zur Anzahl Sterne der eingegebenen Zahl und wieder absteigend bis einem Stern erzeugt.\n"
   ]
  },
  {
   "cell_type": "code",
   "execution_count": null,
   "id": "b8bed808",
   "metadata": {},
   "outputs": [],
   "source": [
    "rows = 5\n",
    "for i in range(0, rows):\n",
    "    for j in range(0, i + 1):\n",
    "        print(\"*\", end=' ')\n",
    "    print(\"\\r\")\n",
    "\n",
    "for i in range(rows, 0, -1):\n",
    "    for j in range(0, i - 1):\n",
    "        print(\"*\", end=' ')\n",
    "    print(\"\\r\")"
   ]
  },
  {
   "cell_type": "markdown",
   "id": "65a201e9",
   "metadata": {},
   "source": [
    "Password-Generator ---\n",
    "Spezifikation: Schreibe Python Code, der mit Hilfe einer Funktion ein sicheres Password als Mix aus Kleinbuchstaben, Großbuchstaben, Zahlen und Symbolen generieren werden kann. Die Länge des Passwortes soll abgefragt werden."
   ]
  },
  {
   "cell_type": "code",
   "execution_count": null,
   "id": "5ac16d5c",
   "metadata": {},
   "outputs": [],
   "source": [
    "import string\n",
    "import random\n",
    "\n",
    "def pw_gen(size = 8):\n",
    "\tpw = ''\n",
    "\tchars = string.ascii_letters + string.digits + string.punctuation\n",
    "\tfor _ in range(size):\n",
    "\t\tpw += random.choice(chars)\n",
    "\treturn pw\n",
    "\n",
    "pw_size = int(input('How many characters in your password? '))\n",
    "print(pw_gen(pw_size))"
   ]
  },
  {
   "cell_type": "markdown",
   "id": "27443bbb",
   "metadata": {},
   "source": [
    "Discount-Price ---\n",
    "Spezifikation: Schreibe Python Code, der mit Hilfe einer Funktion den ermäßigten Preis ausrechnet, nachdem der alte Preis und die Ermäßigung in Prozent erfasst wurden."
   ]
  },
  {
   "cell_type": "code",
   "execution_count": null,
   "id": "7df8fd35",
   "metadata": {},
   "outputs": [],
   "source": [
    "def apply_discount(price, discount_percent):\n",
    "    if price < 0 or discount_percent < 0 or discount_percent > 100:\n",
    "        return \"Invalid input\"\n",
    "    discount_amount = (discount_percent / 100) * price\n",
    "    return round(price - discount_amount, 2)\n",
    "# Example usage\n",
    "input_price = float(input(\"Preis [€]: \"))\n",
    "input_discount = float(input(\"Ermäßigung [%]: \"))\n",
    "print(f\"Ursprungspreis {input_price}€; Ermäßigung {input_discount}%\\nNeuer Preis {apply_discount(input_price, input_discount)}\" )"
   ]
  }
 ],
 "metadata": {
  "kernelspec": {
   "display_name": "Python 3",
   "language": "python",
   "name": "python3"
  },
  "language_info": {
   "codemirror_mode": {
    "name": "ipython",
    "version": 3
   },
   "file_extension": ".py",
   "mimetype": "text/x-python",
   "name": "python",
   "nbconvert_exporter": "python",
   "pygments_lexer": "ipython3",
   "version": "3.12.10"
  }
 },
 "nbformat": 4,
 "nbformat_minor": 5
}
